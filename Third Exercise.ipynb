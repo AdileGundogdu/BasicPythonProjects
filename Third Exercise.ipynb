{
 "cells": [
  {
   "cell_type": "markdown",
   "id": "2388ae4a",
   "metadata": {},
   "source": [
    "# Third Exercise"
   ]
  },
  {
   "cell_type": "markdown",
   "id": "ee62d8ea",
   "metadata": {},
   "source": [
    "The color_translator function receives the name of a color, then prints its hexadecimal value. Currently, it only supports the three additive primary colors (red, green, blue), so it returns \"unknown\" for all other colors."
   ]
  },
  {
   "cell_type": "code",
   "execution_count": 1,
   "id": "d57c398d",
   "metadata": {},
   "outputs": [
    {
     "name": "stdout",
     "output_type": "stream",
     "text": [
      "#0000ff\n",
      "unknown\n",
      "#ff0000\n",
      "unknown\n",
      "#00ff00\n",
      "unknown\n"
     ]
    }
   ],
   "source": [
    "def color_translator(color):\n",
    "    if color == \"red\":\n",
    "        hex_color = \"#ff0000\"\n",
    "    elif color == \"green\":\n",
    "        hex_color = \"#00ff00\"\n",
    "    elif color == \"blue\":\n",
    "        hex_color = \"#0000ff\"\n",
    "    else:\n",
    "        hex_color = \"unknown\"\n",
    "    return hex_color\n",
    "\n",
    "print(color_translator(\"blue\")) # Should be #0000ff\n",
    "print(color_translator(\"yellow\")) # Should be unknown\n",
    "print(color_translator(\"red\")) # Should be #ff0000\n",
    "print(color_translator(\"black\")) # Should be unknown\n",
    "print(color_translator(\"green\")) # Should be #00ff00\n",
    "print(color_translator(\"\")) # Should be unknown"
   ]
  },
  {
   "cell_type": "markdown",
   "id": "526a970d",
   "metadata": {},
   "source": [
    "This function receives the first_name and last_name parameters and then returns a properly formatted string."
   ]
  },
  {
   "cell_type": "code",
   "execution_count": 2,
   "id": "05172a82",
   "metadata": {},
   "outputs": [
    {
     "name": "stdout",
     "output_type": "stream",
     "text": [
      "Name: Hemingway, Ernest\n",
      "Name: Madonna\n",
      "Name: Voltaire\n",
      "\n"
     ]
    }
   ],
   "source": [
    "def format_name(first_name, last_name):\n",
    "    if len(first_name)>0 and len(last_name)>0:\n",
    "        string = \"Name: \" + last_name + \", \" + first_name\n",
    "        return string\n",
    "    elif len(first_name) > 0 or len(last_name) > 0:\n",
    "        string = \"Name: \" + last_name + first_name\n",
    "        return string\n",
    "    else:\n",
    "        string = \"\"\n",
    "        return string \n",
    "\n",
    "print(format_name(\"Ernest\", \"Hemingway\"))\n",
    "# Should return the string \"Name: Hemingway, Ernest\"\n",
    "\n",
    "print(format_name(\"\", \"Madonna\"))\n",
    "# Should return the string \"Name: Madonna\"\n",
    "\n",
    "print(format_name(\"Voltaire\", \"\"))\n",
    "# Should return the string \"Name: Voltaire\"\n",
    "\n",
    "print(format_name(\"\", \"\"))\n",
    "# Should return an empty string"
   ]
  },
  {
   "cell_type": "markdown",
   "id": "8fb1121f",
   "metadata": {},
   "source": [
    "The longest_word function is used to compare 3 words. It should return the word with the most number of characters (and the first in the list when they have the same length)."
   ]
  },
  {
   "cell_type": "code",
   "execution_count": 3,
   "id": "233a0729",
   "metadata": {},
   "outputs": [
    {
     "name": "stdout",
     "output_type": "stream",
     "text": [
      "chair\n",
      "beyond\n",
      "notebook\n"
     ]
    }
   ],
   "source": [
    "def longest_word(word1, word2, word3):\n",
    "    if len(word1) >= len(word2) and len(word1) >= len(word3):\n",
    "        word = word1\n",
    "    elif len(word2) >= len(word1) and len(word2) >= len(word3):\n",
    "        word = word2\n",
    "    else:\n",
    "        word = word3\n",
    "    return(word)\n",
    "\n",
    "print(longest_word(\"chair\", \"couch\", \"table\"))\n",
    "print(longest_word(\"bed\", \"bath\", \"beyond\"))\n",
    "print(longest_word(\"laptop\", \"notebook\", \"desktop\"))"
   ]
  },
  {
   "cell_type": "markdown",
   "id": "df2f38d9",
   "metadata": {},
   "source": [
    "The fractional_part function divides the numerator by the denominator, and returns just the fractional part (a number between 0 and 1). "
   ]
  },
  {
   "cell_type": "code",
   "execution_count": 4,
   "id": "c0994412",
   "metadata": {},
   "outputs": [
    {
     "name": "stdout",
     "output_type": "stream",
     "text": [
      "0\n",
      "0.25\n",
      "0.6666666666666667\n",
      "0.5\n",
      "0\n",
      "0\n"
     ]
    }
   ],
   "source": [
    "def fractional_part(numerator, denominator):\n",
    "    if numerator > denominator and denominator != 0:\n",
    "        return numerator / denominator - numerator // denominator\n",
    "# Operate with numerator and denominator to \n",
    "# keep just the fractional part of the quotient\n",
    "    return 0\n",
    "\n",
    "print(fractional_part(5, 5)) # Should be 0\n",
    "print(fractional_part(5, 4)) # Should be 0.25\n",
    "print(fractional_part(5, 3)) # Should be 0.66...\n",
    "print(fractional_part(5, 2)) # Should be 0.5\n",
    "print(fractional_part(5, 0)) # Should be 0\n",
    "print(fractional_part(0, 5)) # Should be 0"
   ]
  },
  {
   "cell_type": "code",
   "execution_count": null,
   "id": "81b89861",
   "metadata": {},
   "outputs": [],
   "source": []
  }
 ],
 "metadata": {
  "kernelspec": {
   "display_name": "Python 3 (ipykernel)",
   "language": "python",
   "name": "python3"
  },
  "language_info": {
   "codemirror_mode": {
    "name": "ipython",
    "version": 3
   },
   "file_extension": ".py",
   "mimetype": "text/x-python",
   "name": "python",
   "nbconvert_exporter": "python",
   "pygments_lexer": "ipython3",
   "version": "3.9.12"
  }
 },
 "nbformat": 4,
 "nbformat_minor": 5
}
