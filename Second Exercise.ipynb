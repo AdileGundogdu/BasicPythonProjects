{
 "cells": [
  {
   "cell_type": "markdown",
   "id": "291b4ef1",
   "metadata": {},
   "source": [
    "# Second Exercise"
   ]
  },
  {
   "cell_type": "markdown",
   "id": "b2c98aed",
   "metadata": {},
   "source": [
    "The function receives a name, then returns a greeting based on whether or not that name is \"Taylor\"."
   ]
  },
  {
   "cell_type": "code",
   "execution_count": 6,
   "id": "83d529c0",
   "metadata": {},
   "outputs": [
    {
     "name": "stdout",
     "output_type": "stream",
     "text": [
      "Welcome back Taylor!\n",
      "Hello there, John\n"
     ]
    }
   ],
   "source": [
    "def greeting(name):\n",
    "    if name == \"Taylor\":\n",
    "        return \"Welcome back Taylor!\"\n",
    "    else:\n",
    "        return \"Hello there, \" + name\n",
    "\n",
    "print(greeting(\"Taylor\"))\n",
    "print(greeting(\"John\"))"
   ]
  },
  {
   "cell_type": "code",
   "execution_count": null,
   "id": "391dbb0b",
   "metadata": {},
   "outputs": [],
   "source": []
  }
 ],
 "metadata": {
  "kernelspec": {
   "display_name": "Python 3 (ipykernel)",
   "language": "python",
   "name": "python3"
  },
  "language_info": {
   "codemirror_mode": {
    "name": "ipython",
    "version": 3
   },
   "file_extension": ".py",
   "mimetype": "text/x-python",
   "name": "python",
   "nbconvert_exporter": "python",
   "pygments_lexer": "ipython3",
   "version": "3.9.12"
  }
 },
 "nbformat": 4,
 "nbformat_minor": 5
}
